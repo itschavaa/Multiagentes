{
 "cells": [
  {
   "cell_type": "markdown",
   "source": [
    "M1. Actividad \n",
    "Salvador Rodríguez Paredes\n",
    "\n",
    "Los agentes desarollados en la actividad son agentes reactivos con estados internos, lo cual nos quiere decir que estos mismos no son propositivos sino que se amoldan a sus circunstancias. Ellos no van a buscar la basura, la van a recoger solo en laso de haber caido en una celda con basura, no tienen conocimiento de la matriz en la que se encuentran y no comparten informacion de los vecinos que tienen con otros agentes, lo cual hace que el recoger la basura por completo sea una cuestion de azar o del tiempo maximo de ejecucion.\n",
    "\n",
    "Git: https://github.com/itschavaa/Multiagentes/blob/master/M1.%20Actividad.ipynb"
   ],
   "metadata": {
    "collapsed": false
   },
   "id": "9ab30b7ba6545efe"
  },
  {
   "cell_type": "code",
   "execution_count": null,
   "outputs": [],
   "source": [
    "!pip install mesa"
   ],
   "metadata": {
    "collapsed": false
   },
   "id": "bdd9e150c7cbb989"
  },
  {
   "cell_type": "code",
   "execution_count": null,
   "outputs": [],
   "source": [
    "# Importamos las clases que se requieren para manejar los agentes (Agent) y su entorno (Model).\n",
    "# Cada modelo puede contener múltiples agentes.\n",
    "from mesa import Agent, Model\n",
    "\n",
    "# Debido a que necesitamos que existe un solo agente por celda, elegimos ''SingleGrid''.\n",
    "from mesa.space import MultiGrid\n",
    "\n",
    "# Con ''RandomActivation'', hacemos que todos los agentes se activen ''al mismo tiempo''.\n",
    "from mesa.time import SimultaneousActivation, RandomActivation\n",
    "\n",
    "# Haremos uso de ''DataCollector'' para obtener información de cada paso de la simulación.\n",
    "from mesa.datacollection import DataCollector\n",
    "\n",
    "%matplotlib inline\n",
    "import matplotlib\n",
    "import matplotlib.pyplot as plt\n",
    "import matplotlib.animation as animation\n",
    "\n",
    "plt.rcParams[\"animation.html\"] = \"jshtml\"\n",
    "matplotlib.rcParams['animation.embed_limit'] = 2 ** 128\n",
    "\n",
    "# Importamos los siguientes paquetes para el mejor manejo de valores numéricos.\n",
    "import numpy as np\n",
    "import pandas as pd\n",
    "\n",
    "# Definimos otros paquetes que vamos a usar para medir el tiempo de ejecución de nuestro algoritmo.\n",
    "import time\n",
    "import datetime"
   ],
   "metadata": {
    "collapsed": false
   },
   "id": "3be29a3eed478d0a"
  },
  {
   "cell_type": "code",
   "execution_count": null,
   "outputs": [],
   "source": [
    "def vecinos(posicion, filas, columnas):\n",
    "    fila, columna = posicion\n",
    "    vecinos = []\n",
    "\n",
    "    if fila > 0:\n",
    "        vecinos.append((fila - 1, columna))\n",
    "\n",
    "    if fila < filas - 1:\n",
    "        vecinos.append((fila + 1, columna))\n",
    "\n",
    "    if columna > 0:\n",
    "        vecinos.append((fila, columna - 1))\n",
    "\n",
    "    if columna < columnas - 1:\n",
    "        vecinos.append((fila, columna + 1))\n",
    "\n",
    "    if fila > 0 and columna > 0:\n",
    "        vecinos.append((fila - 1, columna - 1))\n",
    "\n",
    "    if fila > 0 and columna < columnas - 1:\n",
    "        vecinos.append((fila - 1, columna + 1))\n",
    "\n",
    "    if fila < filas - 1 and columna > 0:\n",
    "        vecinos.append((fila + 1, columna - 1))\n",
    "\n",
    "    if fila < filas - 1 and columna < columnas - 1:\n",
    "        vecinos.append((fila + 1, columna + 1))\n",
    "\n",
    "    return vecinos"
   ],
   "metadata": {
    "collapsed": false
   },
   "id": "6a9163c420f805ce"
  },
  {
   "cell_type": "code",
   "execution_count": null,
   "outputs": [],
   "source": [
    "class RobotAgent(Agent):\n",
    "    def __init__(self, id, model, type=1):\n",
    "        super().__init__(id, model)\n",
    "        self.type = type\n",
    "        self.i = {\n",
    "            \"cleaning\" : False,\n",
    "            \"wait\" : False\n",
    "        }\n",
    "\n",
    "    def see(self, e):\n",
    "        neighbors = vecinos(e,WIDTH,HEIGHT)\n",
    "        self.per = self.random.choice(neighbors)\n",
    "        \n",
    "        \n",
    "    def next(self, i, per):\n",
    "        cell_content = self.model.grid.get_cell_list_contents(per)\n",
    "        if cell_content != []:\n",
    "            for agent in cell_content:\n",
    "                if isinstance(agent, TrashAgent):\n",
    "                    i[\"cleaning\"] = True\n",
    "                elif isinstance(agent, RobotAgent):\n",
    "                    i[\"wait\"] = True\n",
    "                    i[\"cleaning\"] = False\n",
    "         \n",
    "    def action(self, i):\n",
    "        if not i[\"cleaning\"] and not i[\"wait\"]:\n",
    "            self.model.grid.move_agent(self, self.per)\n",
    "        \n",
    "        if i[\"cleaning\"]:\n",
    "            trash_agent = [trash for trash in self.model.grid.get_cell_list_contents(self.per) if isinstance(trash, TrashAgent)]\n",
    "            trash_neighbours = [agent for agent in self.model.grid.get_neighbors(self.pos, moore=False, include_center=False) if isinstance(agent, TrashAgent)]\n",
    "            for agent in trash_neighbours:\n",
    "                if agent.pos == self.per:\n",
    "                    self.model.schedule.remove(agent)\n",
    "                    self.model.grid.remove_agent(agent)\n",
    "                    self.model.grid.move_agent(self, self.per)      \n",
    "                      \n",
    "            i[\"cleaning\"] = False;\n",
    "        \n",
    "        if not i[\"cleaning\"] and i[\"wait\"]:\n",
    "            self.model.grid.move_agent(self, self.pos)    \n",
    "            i[\"wait\"] = False\n",
    "\n",
    "    def step(self):\n",
    "        self.see(self.pos)\n",
    "        self.next(self.i, self.per)\n",
    "        self.action(self.i)\n",
    "        global steps\n",
    "        steps = steps + 1"
   ],
   "metadata": {
    "collapsed": false
   },
   "id": "ba7c818dffc4974e"
  },
  {
   "cell_type": "code",
   "execution_count": null,
   "outputs": [],
   "source": [
    "class TrashAgent(Agent):\n",
    "    def __init__(self, id, model, type=2):\n",
    "        super().__init__(id, model)\n",
    "        self.per = None\n",
    "        self.type = type\n",
    "        \n",
    "    def see(self, e):\n",
    "        pass\n",
    "\n",
    "    def next(self, i, per):\n",
    "        pass\n",
    "\n",
    "    def action(self, i):\n",
    "        pass\n",
    "\n",
    "    def step(self):\n",
    "        pass"
   ],
   "metadata": {
    "collapsed": false
   },
   "id": "50ce3170d29e6edf"
  },
  {
   "cell_type": "code",
   "execution_count": null,
   "outputs": [],
   "source": [
    "def get_grid(model):\n",
    "    grid = np.zeros((model.grid.width, model.grid.height))\n",
    "    for agent in model.schedule.agents:\n",
    "        if isinstance(agent, RobotAgent):\n",
    "            grid[agent.pos[0]][agent.pos[1]] = 2\n",
    "        elif isinstance(agent, TrashAgent):\n",
    "            grid[agent.pos[0]][agent.pos[1]] = 1\n",
    "    return grid"
   ],
   "metadata": {
    "collapsed": false
   },
   "id": "7d24bfc8dd69cc"
  },
  {
   "cell_type": "code",
   "execution_count": null,
   "outputs": [],
   "source": [
    "steps = 0\n",
    "class CleaningModel(Model):\n",
    "    def __init__(self, width, height, num_agents, dirty):\n",
    "        self.robot_agents = num_agents\n",
    "        self.trash_agents = int(width * height * dirty)\n",
    "        self.grid = MultiGrid(width, height, torus=False)\n",
    "        self.schedule = SimultaneousActivation(self)\n",
    "        self.total_steps = 0\n",
    "\n",
    "        self.datacollector = DataCollector(model_reporters={\"Grid\": get_grid})\n",
    "        id = 0\n",
    "        for i in range(self.robot_agents):\n",
    "            agent = RobotAgent(id, self)\n",
    "            self.grid.place_agent(agent, (1, 1))\n",
    "            self.schedule.add(agent)\n",
    "            id = id + 1\n",
    "\n",
    "        for i in range(self.trash_agents):\n",
    "            trash = TrashAgent(id, self)\n",
    "            self.schedule.add(trash)\n",
    "            empty_pos = list(self.grid.empties)\n",
    "            if empty_pos:\n",
    "                ran_pos = self.random.choice(empty_pos)\n",
    "                self.grid.place_agent(trash, ran_pos)\n",
    "            id = id + 1\n",
    "\n",
    "    def step(self):\n",
    "        trash_agent = [trash for trash in self.schedule.agents if isinstance(trash, TrashAgent)]\n",
    "        if len(trash_agent) > 0:\n",
    "            self.datacollector.collect(self)\n",
    "            self.schedule.step()\n",
    "            self.total_steps += 1\n",
    "        else:\n",
    "            self.running = False;\n",
    "        \n"
   ],
   "metadata": {
    "collapsed": false
   },
   "id": "682520c0d59c36dc"
  },
  {
   "cell_type": "code",
   "execution_count": null,
   "outputs": [],
   "source": [
    "WIDTH = 10\n",
    "HEIGHT = 10\n",
    "AGENTS = 10\n",
    "DIRT = 0.25\n",
    "MAX_STEPS = 1000\n",
    "\n",
    "start_time = time.time()\n",
    "model = CleaningModel(WIDTH, HEIGHT, AGENTS, DIRT)\n",
    "for i in range(MAX_STEPS):\n",
    "    model.step()\n",
    "    \n",
    "finish_time = time.time() \n",
    "\n",
    "\n",
    "trash_agent = [trash for trash in model.schedule.agents if isinstance(trash, TrashAgent)]\n",
    "robot_agent = [robot for robot in model.schedule.agents if isinstance(robot, RobotAgent)]\n"
   ],
   "metadata": {
    "collapsed": false
   },
   "id": "7573cef525522edf"
  },
  {
   "cell_type": "code",
   "execution_count": null,
   "outputs": [],
   "source": [
    "# Obtenemos la información que almacenó el colector, este nos entregará un DataFrame de pandas que contiene toda la información.\n",
    "all_grid = model.datacollector.get_model_vars_dataframe()"
   ],
   "metadata": {
    "collapsed": false
   },
   "id": "2abaae9a6167f5e2"
  },
  {
   "cell_type": "code",
   "execution_count": null,
   "outputs": [],
   "source": [
    "fig, axs = plt.subplots()\n",
    "axs.set_xticks([])\n",
    "axs.set_yticks([])\n",
    "patch = plt.imshow(all_grid.iloc[0][0], cmap='Accent')\n",
    "\n",
    "\n",
    "def animate(i):\n",
    "    patch.set_data(all_grid.iloc[i][0])\n",
    "\n",
    "\n",
    "anim = animation.FuncAnimation(fig, animate, frames=model.total_steps)\n",
    "\n",
    "# Imprimimos el tiempo que le tomó correr al modelo.\n",
    "print('Tiempo de ejecución:', str(datetime.timedelta(seconds=(finish_time-start_time))))\n",
    "\n",
    "print('Steps Maximos: ', str(MAX_STEPS))\n",
    "\n",
    "print('Steps ocupados: ', str(model.total_steps))\n",
    "\n",
    "print('Robots: ', str(len(robot_agent)))\n",
    "\n",
    "print('Basura al final de la simulación: ', str(len(trash_agent)))\n",
    "\n",
    "print('Porcentaje de basura: ', str(len(trash_agent)*100/(WIDTH*HEIGHT)),'%')\n"
   ],
   "metadata": {
    "collapsed": false
   },
   "id": "991ac57391ed08e7"
  },
  {
   "cell_type": "code",
   "execution_count": null,
   "outputs": [],
   "source": [
    "anim"
   ],
   "metadata": {
    "collapsed": false
   },
   "id": "89aede2d60bd0ab1"
  },
  {
   "cell_type": "markdown",
   "source": [
    "Para el analisis del cómo la cantidad de agentes impacta el tiempo dedicado, así como la cantidad de movimientos realizados estaremos tomando los siguientes valores como parametros:\n",
    "Maximo de steps: 1000\n",
    "Dimensiones del grid: 10x10\n",
    "Porcentaje de basura 25%\n",
    "\n",
    "Haciendo las pruebas con un solo agente robot pudimos notar que toma el maximo de steps y no logra dejar sin basura el grid, dejando 1% de basura en el grid, si duplicamos el numero de agentes conseguimos reducir el numero de steps usados casi a la mitad (506 steps en pruebas) y dejando el grid limpio, si volvemos a duplicar el numero reducimos el numero de steps usados para limpiar el grid a 423, duplicando una vez mas logramos 341 steps. El numero de steps se ha reducido pero no tan significativamente como la primera vez que duplicamos la cantidad de agentes, volvimos a encontrar un cambio significativo cuando duplicamos una vez mas el numero de agentes(16 robots) estos tomaron solo 109 steps.\n",
    "\n",
    "Al ser un programa con agentes reactivos puedo asumir que no es hasta que el numero de agentes se aproximo al de celdas sucias que podemos notar que el tiempo de ejecucion se reduce. Una mejor implementacion se lograria si los agentes pudieran compartir su conocimiento y entender que hay al rededor de ellos para escocger a donde ir."
   ],
   "metadata": {
    "collapsed": false
   },
   "id": "67ae073fa2a35252"
  },
  {
   "cell_type": "markdown",
   "source": [],
   "metadata": {
    "collapsed": false
   },
   "id": "976c0a230a9c4b8d"
  }
 ],
 "metadata": {
  "kernelspec": {
   "display_name": "Python 3",
   "language": "python",
   "name": "python3"
  },
  "language_info": {
   "codemirror_mode": {
    "name": "ipython",
    "version": 2
   },
   "file_extension": ".py",
   "mimetype": "text/x-python",
   "name": "python",
   "nbconvert_exporter": "python",
   "pygments_lexer": "ipython2",
   "version": "2.7.6"
  }
 },
 "nbformat": 4,
 "nbformat_minor": 5
}
